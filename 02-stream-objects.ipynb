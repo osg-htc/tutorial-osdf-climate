{
 "cells": [
  {
   "cell_type": "markdown",
   "id": "ed5e1a64-3ee6-4200-8b61-0bee44a2cc88",
   "metadata": {},
   "source": [
    "# Stream Objects Using Python\n",
    "\n",
    "TODO: \n",
    "- Overview\n",
    "- Objectives\n",
    "- Lots of filler text\n",
    "\n",
    "### Objectives\n",
    "\n",
    "TODO"
   ]
  },
  {
   "cell_type": "markdown",
   "id": "f2d442be-8992-4271-af8a-9a5c612453f6",
   "metadata": {},
   "source": [
    "## Notebook Example\n",
    "\n",
    "Implemented as notebook, not script. Code might look like this: "
   ]
  },
  {
   "cell_type": "code",
   "execution_count": null,
   "id": "dffc3a67-0316-46c4-a2ef-1ed1bdcfd318",
   "metadata": {},
   "outputs": [],
   "source": [
    "from sys import argv\n",
    "import pandas as pd\n",
    "from scripts.my_functions import extract_temp_data, identify_season, create_histogram"
   ]
  },
  {
   "cell_type": "code",
   "execution_count": null,
   "id": "494222c4-3b29-4f1e-92d9-ad2e1c7c8ed7",
   "metadata": {},
   "outputs": [],
   "source": [
    "station_id = \"USW00014837\"\n",
    "\n",
    "# Read data from file\n",
    "station_data_filename = f\"{station_id}.csv\"\n",
    "station_df = pd.read_csv(station_data_filename, low_memory=False)"
   ]
  },
  {
   "cell_type": "code",
   "execution_count": null,
   "id": "a2b12ba6-c5cc-4241-ab21-6fb4de866f28",
   "metadata": {},
   "outputs": [],
   "source": [
    "# Extract Min, Max Temperatures as dataframe\n",
    "tempdf = extract_temp_data(station_df)\n",
    "\n",
    "# Describe the dataset\n",
    "print(f\"{tempdf.describe()}\\n\")\n",
    "\n",
    "# Label by season\n",
    "tempdf['SEASON'] = tempdf.index.map(identify_season)\n",
    "\n",
    "# Create histograms\n",
    "# Saves as <STATION ID>-temp-dist.png, unless otherwise specified.\n",
    "create_histogram(tempdf, station_id)"
   ]
  },
  {
   "cell_type": "markdown",
   "id": "9fdbdcc8-94e1-4d5c-8c20-feac837fa098",
   "metadata": {},
   "source": [
    "Suppose data was really big!!"
   ]
  },
  {
   "cell_type": "markdown",
   "id": "06076e8d-4308-492a-a319-7c622ad52d05",
   "metadata": {},
   "source": [
    "## Loading data with PelicanFS\n",
    "\n",
    "change data loading..."
   ]
  },
  {
   "cell_type": "code",
   "execution_count": null,
   "id": "b2b87104-5a66-406f-a989-3f846e059b47",
   "metadata": {},
   "outputs": [],
   "source": [
    "osdf_prefix = 'osdf:///aws-opendata/us-east-1/noaa-ghcn-pds'\n",
    "station_URL = f\"{osdf_prefix}/csv/by_station/{station_id}.csv\"\n",
    "#pelfs = PelicanFileSystem(station_URL)"
   ]
  },
  {
   "cell_type": "code",
   "execution_count": null,
   "id": "2845ee0f-1b38-494b-8994-b57eaa847072",
   "metadata": {},
   "outputs": [],
   "source": [
    "station_df = pd.read_csv(station_URL, low_memory=False)"
   ]
  },
  {
   "cell_type": "markdown",
   "id": "5e921a3b-2884-4080-9de0-40da0efcb8a8",
   "metadata": {},
   "source": [
    "Rest of analysis like normal"
   ]
  },
  {
   "cell_type": "code",
   "execution_count": null,
   "id": "baf3d01f-09ce-4c2a-b431-fef78885a82b",
   "metadata": {},
   "outputs": [],
   "source": [
    "# Extract Min, Max Temperatures as dataframe\n",
    "tempdf = extract_temp_data(station_df)\n",
    "\n",
    "# Describe the dataset\n",
    "print(f\"{tempdf.describe()}\\n\")\n",
    "\n",
    "# Label by season\n",
    "tempdf['SEASON'] = tempdf.index.map(identify_season)\n",
    "\n",
    "# Create histograms\n",
    "# Saves as <STATION ID>-temp-dist.png, unless otherwise specified.\n",
    "create_histogram(tempdf, station_id)"
   ]
  }
 ],
 "metadata": {
  "kernelspec": {
   "display_name": "Python 3 (ipykernel)",
   "language": "python",
   "name": "python3"
  },
  "language_info": {
   "codemirror_mode": {
    "name": "ipython",
    "version": 3
   },
   "file_extension": ".py",
   "mimetype": "text/x-python",
   "name": "python",
   "nbconvert_exporter": "python",
   "pygments_lexer": "ipython3",
   "version": "3.8.11"
  }
 },
 "nbformat": 4,
 "nbformat_minor": 5
}
