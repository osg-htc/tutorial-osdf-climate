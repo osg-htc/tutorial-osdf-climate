{
 "cells": [
  {
   "cell_type": "markdown",
   "id": "8daafe7c-ae03-404b-a1e4-85b524204aaa",
   "metadata": {},
   "source": [
    "## Preparing for Later\n",
    "\n",
    "This step runs better in a terminal than a notebook, so we're going to \n",
    "do it first (in a terminal) to get it out of the way! \n",
    "\n",
    "Open the launcher page by either using the big blue \"+\" button on the top\n",
    "left or by opening a new tab. Then, open a terminal tab: \n",
    "\n",
    "![](./images/launcher.png)\n",
    "\n",
    "\n",
    "And then copy and paste this command into the terminal: "
   ]
  },
  {
   "cell_type": "code",
   "execution_count": null,
   "id": "90eda22a-fab0-4c31-aa2e-f124fa5dfdb2",
   "metadata": {},
   "outputs": [],
   "source": [
    "pelican credentials reset-password"
   ]
  },
  {
   "cell_type": "markdown",
   "id": "00cf4598-7d4c-4a07-a9b4-4393916a611c",
   "metadata": {},
   "source": [
    "You should see some text that looks like this: \n",
    "\n",
    "```\n",
    "The client is able to save the authorization in a local file.\n",
    "This prevents the need to reinitialize the authorization for each transfer.\n",
    "You will be asked for this password whenever a new session is started.\n",
    "Please provide a new password to encrypt the local OSDF client configuration file:\n",
    "```\n",
    "\n",
    "Type \"Enter\". You'll see this reply. \n",
    "\n",
    "```\n",
    "WARNING: empty password provided; the credentials will be saved unencrypted on disk\n",
    "```\n",
    "\n",
    "This is fine for our demo today, but when working on your own computer, it's wise to set a password. "
   ]
  },
  {
   "cell_type": "code",
   "execution_count": null,
   "id": "bd0c7475-b961-4193-b50a-461f1aa89a9b",
   "metadata": {},
   "outputs": [],
   "source": []
  }
 ],
 "metadata": {
  "kernelspec": {
   "display_name": "Bash",
   "language": "bash",
   "name": "bash"
  },
  "language_info": {
   "codemirror_mode": "shell",
   "file_extension": ".sh",
   "mimetype": "text/x-sh",
   "name": "bash"
  }
 },
 "nbformat": 4,
 "nbformat_minor": 5
}
