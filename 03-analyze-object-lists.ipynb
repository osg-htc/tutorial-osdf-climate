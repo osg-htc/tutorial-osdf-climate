{
 "cells": [
  {
   "cell_type": "markdown",
   "id": "8e775206-3ae8-4610-9140-df1673e8c322",
   "metadata": {},
   "source": [
    "# Use Data from the OSDF to Run Jobs\n",
    "\n",
    "TODO: \n",
    "- overview\n",
    "- objectives\n",
    "- come up with a short list of station ids to run (use for first module?)\n",
    "- need generic lightweight python container\n",
    "- test jobs"
   ]
  },
  {
   "cell_type": "markdown",
   "id": "c73c0b8e-d524-47d0-9720-f0dee16a6e17",
   "metadata": {},
   "source": [
    "## Scenario: a List of Jobs\n",
    "\n",
    "Suppose we wanted to run our analysis on each station. How many stations are there, again? "
   ]
  },
  {
   "cell_type": "code",
   "execution_count": null,
   "id": "0f9a1586-edaf-4f1c-b739-7d25ea131329",
   "metadata": {},
   "outputs": [],
   "source": [
    "wc -l ghcnd-stations.txt"
   ]
  },
  {
   "cell_type": "markdown",
   "id": "e10338c9-3c62-45fa-8536-e33bf14b9536",
   "metadata": {},
   "source": [
    "That's a long list of tasks to run. \n",
    "\n",
    "Luckily, this workload profile - a list of jobs - is a perfect fit for execution via an HTCondor Access Point, on a system \n",
    "like the Open Science Pool. All we have to do to define this workload is to make a list and a job template. \n",
    "\n",
    "We could use the whole ghcnd-stations.txt file as our list, but for simplicity, we'll cut the full list down to about 20 stations. "
   ]
  },
  {
   "cell_type": "code",
   "execution_count": null,
   "id": "b95b155d-9b6b-4100-9751-346691e4538b",
   "metadata": {},
   "outputs": [],
   "source": [
    "grep INTL ghcnd-stations.txt > station_list.txt"
   ]
  },
  {
   "cell_type": "markdown",
   "id": "de949654-ec92-4323-a0d5-bf7d89bedc7b",
   "metadata": {},
   "source": [
    "## Job Template\n",
    "\n",
    "The following information needs to be communicated in the HTCondor job file: \n",
    "\n",
    "- **Software environment** \n",
    "    - blurb\n",
    "    - in our example, we will use an existing container (that also happens to be available via the OSDF)\n",
    "- **What the job should run**\n",
    "    - blurb\n",
    "    - For our example, the executable is the `example.py` script\n",
    "- **Inputs (both scripts and data)**\n",
    "    - blurb\n",
    "    - We need to include both the helper scripts for our code (in the `scripts` directory) and the Pelican URL to our data file. \n",
    "- **Recording information about the job**\n",
    "    - As with many other schedulers, HTCondor provides options for recording the standard output and error of a running job\n",
    "    - Note below that these files are organized into their own directory. \n",
    "- **Resource needs**\n",
    "    - Default resources that should be set for every HTCondor job list include cores, memory (RAM) and local disk on the execution point. \n",
    "    - our example\n",
    "\n",
    "Each of these items is reflected in the example submit file: "
   ]
  },
  {
   "cell_type": "code",
   "execution_count": null,
   "id": "28690d4a-bafb-4626-be4d-39ead9d35700",
   "metadata": {},
   "outputs": [],
   "source": [
    "cat example.sub"
   ]
  },
  {
   "cell_type": "markdown",
   "id": "989530b7-28dd-450c-8b18-7e4e837043f1",
   "metadata": {},
   "source": [
    "Every line of the submit file (except the last one) should be thought of as the template for one job. At any point \n",
    "in this template where there is data that will be different for each job, we've placed a variable as a placeholder -- \n",
    "the variable format is `$(variable_name)`. \n",
    "\n",
    "The last line (`queue station_id from station_list.txt`) is what transforms this example into a job list -- HTCondor \n",
    "will iterate through the items in our list and create a job for each one. "
   ]
  },
  {
   "cell_type": "markdown",
   "id": "7b624eb7-352f-49e3-9120-130fe4b6bcbb",
   "metadata": {},
   "source": [
    "## Submitting Jobs\n",
    "\n",
    "We can now submit our list of jobs: "
   ]
  },
  {
   "cell_type": "code",
   "execution_count": null,
   "id": "ab8adc6c-f9fb-49d8-8ed7-993187bcb4c3",
   "metadata": {},
   "outputs": [],
   "source": [
    "condor_submit example.sub"
   ]
  },
  {
   "cell_type": "markdown",
   "id": "6aa2f600-7f33-46e7-9ef1-0d42569838b1",
   "metadata": {},
   "source": [
    "Jobs can be monitored using `condor_q`: "
   ]
  },
  {
   "cell_type": "code",
   "execution_count": null,
   "id": "dcb50cb0-8f6a-422b-afa0-5909bafd17cf",
   "metadata": {},
   "outputs": [],
   "source": [
    "condor_q"
   ]
  }
 ],
 "metadata": {
  "kernelspec": {
   "display_name": "Bash",
   "language": "bash",
   "name": "bash"
  },
  "language_info": {
   "codemirror_mode": "shell",
   "file_extension": ".sh",
   "mimetype": "text/x-sh",
   "name": "bash"
  }
 },
 "nbformat": 4,
 "nbformat_minor": 5
}
